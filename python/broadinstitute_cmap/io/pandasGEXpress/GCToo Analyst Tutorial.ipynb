{
 "cells": [
  {
   "cell_type": "markdown",
   "metadata": {},
   "source": [
    "First, a note: Here, we'll be using import statements as if you were in the GCToo directory (eg, from wherever you've forked l1ktools: l1ktools/python/broadinstitute_cmap/io/GCToo). If you'd like to use nested imports, first run setup.py (found in l1ktools/python/broadinstitute_cmap; type \n",
    "\n",
    "```\n",
    "$ python setup.py --help \n",
    "```\n",
    "\n",
    "on the command line for details. Then, from your python session, you should be able to access GCToo with import statements in the following form: \n",
    "\n",
    "```python\n",
    "from broadinstitute_cmap.io.GCToo import [package]\n",
    "```\n"
   ]
  },
  {
   "cell_type": "markdown",
   "metadata": {},
   "source": [
    "# Reading in gct/x files "
   ]
  },
  {
   "cell_type": "markdown",
   "metadata": {},
   "source": [
    "#### If you'd like to read in an entire (.gct or .gctx) file to a GCToo instance:"
   ]
  },
  {
   "cell_type": "code",
   "execution_count": 2,
   "metadata": {
    "collapsed": false
   },
   "outputs": [
    {
     "data": {
      "text/plain": [
       "<GCToo.GCToo at 0x1149c99d0>"
      ]
     },
     "execution_count": 2,
     "metadata": {},
     "output_type": "execute_result"
    }
   ],
   "source": [
    "import parse\n",
    "my_gctoo = parse.parse(\"functional_tests/both_metadata_example_n1476x978.gctx\")\n",
    "my_gctoo"
   ]
  },
  {
   "cell_type": "markdown",
   "metadata": {},
   "source": [
    "#### If you're using the .gctx format, you can also only read in row or column metadata from a .gctx file. "
   ]
  },
  {
   "cell_type": "code",
   "execution_count": 3,
   "metadata": {
    "collapsed": false
   },
   "outputs": [
    {
     "data": {
      "text/html": [
       "<div>\n",
       "<table border=\"1\" class=\"dataframe\">\n",
       "  <thead>\n",
       "    <tr style=\"text-align: right;\">\n",
       "      <th>rhd</th>\n",
       "      <th>pr_analyte_id</th>\n",
       "      <th>pr_analyte_num</th>\n",
       "      <th>pr_gene_id</th>\n",
       "      <th>pr_model_id</th>\n",
       "    </tr>\n",
       "    <tr>\n",
       "      <th>rid</th>\n",
       "      <th></th>\n",
       "      <th></th>\n",
       "      <th></th>\n",
       "      <th></th>\n",
       "    </tr>\n",
       "  </thead>\n",
       "  <tbody>\n",
       "    <tr>\n",
       "      <th>200814_at</th>\n",
       "      <td>Analyte 11</td>\n",
       "      <td>11</td>\n",
       "      <td>5720</td>\n",
       "      <td>NaN</td>\n",
       "    </tr>\n",
       "    <tr>\n",
       "      <th>218597_s_at</th>\n",
       "      <td>Analyte 12</td>\n",
       "      <td>12</td>\n",
       "      <td>55847</td>\n",
       "      <td>NaN</td>\n",
       "    </tr>\n",
       "    <tr>\n",
       "      <th>217140_s_at</th>\n",
       "      <td>Analyte 12</td>\n",
       "      <td>12</td>\n",
       "      <td>7416</td>\n",
       "      <td>NaN</td>\n",
       "    </tr>\n",
       "  </tbody>\n",
       "</table>\n",
       "</div>"
      ],
      "text/plain": [
       "rhd         pr_analyte_id  pr_analyte_num  pr_gene_id  pr_model_id\n",
       "rid                                                               \n",
       "200814_at      Analyte 11              11        5720          NaN\n",
       "218597_s_at    Analyte 12              12       55847          NaN\n",
       "217140_s_at    Analyte 12              12        7416          NaN"
      ]
     },
     "execution_count": 3,
     "metadata": {},
     "output_type": "execute_result"
    }
   ],
   "source": [
    "# read in row metadata only \n",
    "row_metadata_only = parse.parse(\"functional_tests/mini_gctx_with_metadata_n2x3.gctx\", meta_only=\"row\")\n",
    "row_metadata_only"
   ]
  },
  {
   "cell_type": "code",
   "execution_count": 4,
   "metadata": {
    "collapsed": false
   },
   "outputs": [
    {
     "data": {
      "text/html": [
       "<div>\n",
       "<table border=\"1\" class=\"dataframe\">\n",
       "  <thead>\n",
       "    <tr style=\"text-align: right;\">\n",
       "      <th>chd</th>\n",
       "      <th>bead_batch</th>\n",
       "      <th>bead_revision</th>\n",
       "    </tr>\n",
       "    <tr>\n",
       "      <th>cid</th>\n",
       "      <th></th>\n",
       "      <th></th>\n",
       "    </tr>\n",
       "  </thead>\n",
       "  <tbody>\n",
       "    <tr>\n",
       "      <th>LJP005_A375_24H:DMSO:-666</th>\n",
       "      <td>b19</td>\n",
       "      <td>r2</td>\n",
       "    </tr>\n",
       "    <tr>\n",
       "      <th>LJP005_A375_24H:BRD-K76908866:10</th>\n",
       "      <td>b19</td>\n",
       "      <td>r2</td>\n",
       "    </tr>\n",
       "  </tbody>\n",
       "</table>\n",
       "</div>"
      ],
      "text/plain": [
       "chd                              bead_batch bead_revision\n",
       "cid                                                      \n",
       "LJP005_A375_24H:DMSO:-666               b19            r2\n",
       "LJP005_A375_24H:BRD-K76908866:10        b19            r2"
      ]
     },
     "execution_count": 4,
     "metadata": {},
     "output_type": "execute_result"
    }
   ],
   "source": [
    "# read in column metadata only\n",
    "col_metadata_only = parse.parse(\"functional_tests/mini_gctx_with_metadata_n2x3.gctx\", meta_only=\"col\")\n",
    "col_metadata_only"
   ]
  },
  {
   "cell_type": "markdown",
   "metadata": {},
   "source": [
    "#### You can also read in only a certain subset of rids and/or cids to a GCToo instance."
   ]
  },
  {
   "cell_type": "markdown",
   "metadata": {},
   "source": [
    "Practically speaking, this is more useful for GCTX files than GCT files, since (as a text file) you'll need to read in the entire GCT file anyway. **You'll need to have a list of desired rids and/or cids already (can be obtained from reading only metadata in first, then subsetting)**"
   ]
  },
  {
   "cell_type": "code",
   "execution_count": 5,
   "metadata": {
    "collapsed": false
   },
   "outputs": [
    {
     "data": {
      "text/html": [
       "<div>\n",
       "<table border=\"1\" class=\"dataframe\">\n",
       "  <thead>\n",
       "    <tr style=\"text-align: right;\">\n",
       "      <th>rhd</th>\n",
       "      <th>pr_analyte_id</th>\n",
       "      <th>pr_analyte_num</th>\n",
       "      <th>pr_gene_id</th>\n",
       "      <th>pr_model_id</th>\n",
       "    </tr>\n",
       "    <tr>\n",
       "      <th>rid</th>\n",
       "      <th></th>\n",
       "      <th></th>\n",
       "      <th></th>\n",
       "      <th></th>\n",
       "    </tr>\n",
       "  </thead>\n",
       "  <tbody>\n",
       "    <tr>\n",
       "      <th>200814_at</th>\n",
       "      <td>Analyte 11</td>\n",
       "      <td>11</td>\n",
       "      <td>5720</td>\n",
       "      <td>NaN</td>\n",
       "    </tr>\n",
       "    <tr>\n",
       "      <th>218597_s_at</th>\n",
       "      <td>Analyte 12</td>\n",
       "      <td>12</td>\n",
       "      <td>55847</td>\n",
       "      <td>NaN</td>\n",
       "    </tr>\n",
       "  </tbody>\n",
       "</table>\n",
       "</div>"
      ],
      "text/plain": [
       "rhd         pr_analyte_id  pr_analyte_num  pr_gene_id  pr_model_id\n",
       "rid                                                               \n",
       "200814_at      Analyte 11              11        5720          NaN\n",
       "218597_s_at    Analyte 12              12       55847          NaN"
      ]
     },
     "execution_count": 5,
     "metadata": {},
     "output_type": "execute_result"
    }
   ],
   "source": [
    "my_rids = [\"218597_s_at\", \"200814_at\"]\n",
    "my_cids = [\"LJP005_A375_24H:BRD-K76908866:10\"]\n",
    "\n",
    "# you can subset by rids, cids, or both rids and cids \n",
    "mini_gctoo_subset = parse.parse(\"functional_tests/mini_gctx_with_metadata_n2x3.gctx\", rid = my_rids, cid= my_cids)\n",
    "mini_gctoo_subset.row_metadata_df"
   ]
  },
  {
   "cell_type": "code",
   "execution_count": 6,
   "metadata": {
    "collapsed": false
   },
   "outputs": [
    {
     "data": {
      "text/plain": [
       "(2, 1)"
      ]
     },
     "execution_count": 6,
     "metadata": {},
     "output_type": "execute_result"
    }
   ],
   "source": [
    "mini_gctoo_subset.data_df.shape"
   ]
  },
  {
   "cell_type": "code",
   "execution_count": 7,
   "metadata": {
    "collapsed": false
   },
   "outputs": [
    {
     "data": {
      "text/html": [
       "<div>\n",
       "<table border=\"1\" class=\"dataframe\">\n",
       "  <thead>\n",
       "    <tr style=\"text-align: right;\">\n",
       "      <th>chd</th>\n",
       "      <th>bead_batch</th>\n",
       "      <th>bead_revision</th>\n",
       "    </tr>\n",
       "    <tr>\n",
       "      <th>cid</th>\n",
       "      <th></th>\n",
       "      <th></th>\n",
       "    </tr>\n",
       "  </thead>\n",
       "  <tbody>\n",
       "    <tr>\n",
       "      <th>LJP005_A375_24H:BRD-K76908866:10</th>\n",
       "      <td>b19</td>\n",
       "      <td>r2</td>\n",
       "    </tr>\n",
       "  </tbody>\n",
       "</table>\n",
       "</div>"
      ],
      "text/plain": [
       "chd                              bead_batch bead_revision\n",
       "cid                                                      \n",
       "LJP005_A375_24H:BRD-K76908866:10        b19            r2"
      ]
     },
     "execution_count": 7,
     "metadata": {},
     "output_type": "execute_result"
    }
   ],
   "source": [
    "mini_gctoo_subset.col_metadata_df"
   ]
  },
  {
   "cell_type": "markdown",
   "metadata": {},
   "source": [
    "# Construct a GCToo object programatically"
   ]
  },
  {
   "cell_type": "markdown",
   "metadata": {
    "collapsed": true
   },
   "source": [
    "For instance, say we want to create a GCToo instance of a file we've read in (for this example, let's use `my_gctoo`) that lacks metadata."
   ]
  },
  {
   "cell_type": "code",
   "execution_count": 9,
   "metadata": {
    "collapsed": false
   },
   "outputs": [
    {
     "ename": "ImportError",
     "evalue": "No module named broadinstitute_cmap.io.GCToo",
     "output_type": "error",
     "traceback": [
      "\u001b[0;31m---------------------------------------------------------------------------\u001b[0m",
      "\u001b[0;31mImportError\u001b[0m                               Traceback (most recent call last)",
      "\u001b[0;32m<ipython-input-9-e8e2d270a749>\u001b[0m in \u001b[0;36m<module>\u001b[0;34m()\u001b[0m\n\u001b[1;32m      1\u001b[0m \u001b[0;32mimport\u001b[0m \u001b[0mpandas\u001b[0m \u001b[0;32mas\u001b[0m \u001b[0mpd\u001b[0m\u001b[0;34m\u001b[0m\u001b[0m\n\u001b[0;32m----> 2\u001b[0;31m \u001b[0;32mfrom\u001b[0m \u001b[0mbroadinstitute_cmap\u001b[0m\u001b[0;34m.\u001b[0m\u001b[0mio\u001b[0m\u001b[0;34m.\u001b[0m\u001b[0mGCToo\u001b[0m \u001b[0;32mimport\u001b[0m \u001b[0mGCToo\u001b[0m\u001b[0;34m\u001b[0m\u001b[0m\n\u001b[0m\u001b[1;32m      3\u001b[0m \u001b[0;32mfrom\u001b[0m \u001b[0mbroadinstitute_cmap\u001b[0m\u001b[0;34m.\u001b[0m\u001b[0mio\u001b[0m\u001b[0;34m.\u001b[0m\u001b[0mGCToo\u001b[0m \u001b[0;32mimport\u001b[0m \u001b[0mparse\u001b[0m\u001b[0;34m\u001b[0m\u001b[0m\n\u001b[1;32m      4\u001b[0m \u001b[0;34m\u001b[0m\u001b[0m\n\u001b[1;32m      5\u001b[0m \u001b[0mmy_gctoo\u001b[0m \u001b[0;34m=\u001b[0m \u001b[0mparse\u001b[0m\u001b[0;34m.\u001b[0m\u001b[0mparse\u001b[0m\u001b[0;34m(\u001b[0m\u001b[0;34m\"functional_tests/both_metadata_example_n1476x978.gctx\"\u001b[0m\u001b[0;34m)\u001b[0m\u001b[0;34m\u001b[0m\u001b[0m\n",
      "\u001b[0;31mImportError\u001b[0m: No module named broadinstitute_cmap.io.GCToo"
     ]
    }
   ],
   "source": [
    "import pandas as pd\n",
    "from broadinstitute_cmap.io.GCToo import GCToo\n",
    "from broadinstitute_cmap.io.GCToo import parse\n",
    "\n",
    "my_gctoo = parse.parse(\"functional_tests/both_metadata_example_n1476x978.gctx\")\n",
    "\n",
    "minimal_row_meta = pd.DataFrame(index = my_gctoo.row_metadata_df.index)\n",
    "minimal_col_meta = pd.DataFrame(index = my_gctoo.col_metadata_df.index)\n",
    "\n",
    "data_only_gctoo = GCToo.GCToo(data_df = my_gctoo.data_df, \n",
    " \trow_metadata_df = minimal_row_meta, col_metadata_df = minimal_col_meta)\n",
    "\n",
    "data_only_gctoo.row_metadata_df.shape"
   ]
  },
  {
   "cell_type": "code",
   "execution_count": null,
   "metadata": {
    "collapsed": true
   },
   "outputs": [],
   "source": []
  }
 ],
 "metadata": {
  "kernelspec": {
   "display_name": "Python [conda env:GCToo]",
   "language": "python",
   "name": "conda-env-GCToo-py"
  },
  "language_info": {
   "codemirror_mode": {
    "name": "ipython",
    "version": 2
   },
   "file_extension": ".py",
   "mimetype": "text/x-python",
   "name": "python",
   "nbconvert_exporter": "python",
   "pygments_lexer": "ipython2",
   "version": "2.7.11"
  }
 },
 "nbformat": 4,
 "nbformat_minor": 1
}
