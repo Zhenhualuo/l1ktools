{
 "cells": [
  {
   "cell_type": "markdown",
   "metadata": {},
   "source": [
    "First, a note: Here, we'll be using import statements as if you were in the pandasGEXpress directory (eg, from wherever you've forked l1ktools: l1ktools/python/broadinstitute_cmap/io/pandasGEXpress). If you'd like to use nested imports, first run setup.py (found in l1ktools/python/broadinstitute_cmap; type \n",
    "\n",
    "```\n",
    "$ python setup.py --help \n",
    "```\n",
    "\n",
    "on the command line for details. Then, from your python session, you should be able to access pandasGEXpress with import statements in the following form: \n",
    "\n",
    "```python\n",
    "from broadinstitute_cmap.io.pandasGEXpress import [package]\n",
    "```\n"
   ]
  },
  {
   "cell_type": "markdown",
   "metadata": {},
   "source": [
    "#### Table of Contents"
   ]
  },
  {
   "cell_type": "markdown",
   "metadata": {},
   "source": [
    "# Reading in gct/x files"
   ]
  },
  {
   "cell_type": "markdown",
   "metadata": {},
   "source": [
    "## If you'd like to read in an entire (.gct or .gctx) file to a GCToo instance:"
   ]
  },
  {
   "cell_type": "code",
   "execution_count": 5,
   "metadata": {
    "collapsed": false
   },
   "outputs": [
    {
     "data": {
      "text/plain": [
       "<GCToo.GCToo at 0x11694e490>"
      ]
     },
     "execution_count": 5,
     "metadata": {},
     "output_type": "execute_result"
    }
   ],
   "source": [
    "from broadinstitute_cmap.io.GCToo import parse\n",
    "my_gctoo = parse.parse(\"functional_tests/both_metadata_example_n1476x978.gctx\")\n",
    "my_gctoo"
   ]
  },
  {
   "cell_type": "markdown",
   "metadata": {},
   "source": [
    "## If you're using the .gctx format, you can also only read in row or column metadata from a .gctx file. "
   ]
  },
  {
   "cell_type": "code",
   "execution_count": 45,
   "metadata": {
    "collapsed": false
   },
   "outputs": [
    {
     "data": {
      "text/html": [
       "<div>\n",
       "<table border=\"1\" class=\"dataframe\">\n",
       "  <thead>\n",
       "    <tr style=\"text-align: right;\">\n",
       "      <th>rhd</th>\n",
       "      <th>pr_analyte_id</th>\n",
       "      <th>pr_analyte_num</th>\n",
       "      <th>pr_gene_id</th>\n",
       "      <th>pr_model_id</th>\n",
       "    </tr>\n",
       "    <tr>\n",
       "      <th>rid</th>\n",
       "      <th></th>\n",
       "      <th></th>\n",
       "      <th></th>\n",
       "      <th></th>\n",
       "    </tr>\n",
       "  </thead>\n",
       "  <tbody>\n",
       "    <tr>\n",
       "      <th>200814_at</th>\n",
       "      <td>Analyte 11</td>\n",
       "      <td>11</td>\n",
       "      <td>5720</td>\n",
       "      <td>NaN</td>\n",
       "    </tr>\n",
       "    <tr>\n",
       "      <th>218597_s_at</th>\n",
       "      <td>Analyte 12</td>\n",
       "      <td>12</td>\n",
       "      <td>55847</td>\n",
       "      <td>NaN</td>\n",
       "    </tr>\n",
       "    <tr>\n",
       "      <th>217140_s_at</th>\n",
       "      <td>Analyte 12</td>\n",
       "      <td>12</td>\n",
       "      <td>7416</td>\n",
       "      <td>NaN</td>\n",
       "    </tr>\n",
       "  </tbody>\n",
       "</table>\n",
       "</div>"
      ],
      "text/plain": [
       "rhd         pr_analyte_id  pr_analyte_num  pr_gene_id  pr_model_id\n",
       "rid                                                               \n",
       "200814_at      Analyte 11              11        5720          NaN\n",
       "218597_s_at    Analyte 12              12       55847          NaN\n",
       "217140_s_at    Analyte 12              12        7416          NaN"
      ]
     },
     "execution_count": 45,
     "metadata": {},
     "output_type": "execute_result"
    }
   ],
   "source": [
    "# read in row metadata only \n",
    "row_metadata_only = parse.parse(\"functional_tests/mini_gctx_with_metadata_n2x3.gctx\", meta_only=\"row\")\n",
    "row_metadata_only"
   ]
  },
  {
   "cell_type": "code",
   "execution_count": 8,
   "metadata": {
    "collapsed": false
   },
   "outputs": [
    {
     "data": {
      "text/html": [
       "<div>\n",
       "<table border=\"1\" class=\"dataframe\">\n",
       "  <thead>\n",
       "    <tr style=\"text-align: right;\">\n",
       "      <th>chd</th>\n",
       "      <th>bead_batch</th>\n",
       "      <th>bead_revision</th>\n",
       "    </tr>\n",
       "    <tr>\n",
       "      <th>cid</th>\n",
       "      <th></th>\n",
       "      <th></th>\n",
       "    </tr>\n",
       "  </thead>\n",
       "  <tbody>\n",
       "    <tr>\n",
       "      <th>LJP005_A375_24H:DMSO:-666</th>\n",
       "      <td>b19</td>\n",
       "      <td>r2</td>\n",
       "    </tr>\n",
       "    <tr>\n",
       "      <th>LJP005_A375_24H:BRD-K76908866:10</th>\n",
       "      <td>b19</td>\n",
       "      <td>r2</td>\n",
       "    </tr>\n",
       "  </tbody>\n",
       "</table>\n",
       "</div>"
      ],
      "text/plain": [
       "chd                              bead_batch bead_revision\n",
       "cid                                                      \n",
       "LJP005_A375_24H:DMSO:-666               b19            r2\n",
       "LJP005_A375_24H:BRD-K76908866:10        b19            r2"
      ]
     },
     "execution_count": 8,
     "metadata": {},
     "output_type": "execute_result"
    }
   ],
   "source": [
    "# read in column metadata only\n",
    "col_metadata_only = parse.parse(\"functional_tests/mini_gctx_with_metadata_n2x3.gctx\", meta_only=\"col\")\n",
    "col_metadata_only"
   ]
  },
  {
   "cell_type": "markdown",
   "metadata": {},
   "source": [
    "## You can also read in only a certain subset of rids and/or cids to a GCToo instance.\n",
    "\n",
    "Practically speaking, this is more useful for GCTX files than GCT files, since (as a text file) you'll need to read in the entire GCT file anyway. **You'll need to have a list of desired rids and/or cids already (can be obtained from reading only metadata in first, then subsetting)**\n"
   ]
  },
  {
   "cell_type": "code",
   "execution_count": 46,
   "metadata": {
    "collapsed": false
   },
   "outputs": [
    {
     "data": {
      "text/html": [
       "<div>\n",
       "<table border=\"1\" class=\"dataframe\">\n",
       "  <thead>\n",
       "    <tr style=\"text-align: right;\">\n",
       "      <th>rhd</th>\n",
       "      <th>pr_analyte_id</th>\n",
       "      <th>pr_analyte_num</th>\n",
       "      <th>pr_gene_id</th>\n",
       "      <th>pr_model_id</th>\n",
       "    </tr>\n",
       "    <tr>\n",
       "      <th>rid</th>\n",
       "      <th></th>\n",
       "      <th></th>\n",
       "      <th></th>\n",
       "      <th></th>\n",
       "    </tr>\n",
       "  </thead>\n",
       "  <tbody>\n",
       "    <tr>\n",
       "      <th>200814_at</th>\n",
       "      <td>Analyte 11</td>\n",
       "      <td>11</td>\n",
       "      <td>5720</td>\n",
       "      <td>NaN</td>\n",
       "    </tr>\n",
       "    <tr>\n",
       "      <th>218597_s_at</th>\n",
       "      <td>Analyte 12</td>\n",
       "      <td>12</td>\n",
       "      <td>55847</td>\n",
       "      <td>NaN</td>\n",
       "    </tr>\n",
       "  </tbody>\n",
       "</table>\n",
       "</div>"
      ],
      "text/plain": [
       "rhd         pr_analyte_id  pr_analyte_num  pr_gene_id  pr_model_id\n",
       "rid                                                               \n",
       "200814_at      Analyte 11              11        5720          NaN\n",
       "218597_s_at    Analyte 12              12       55847          NaN"
      ]
     },
     "execution_count": 46,
     "metadata": {},
     "output_type": "execute_result"
    }
   ],
   "source": [
    "my_rids = [\"218597_s_at\", \"200814_at\"]\n",
    "my_cids = [\"LJP005_A375_24H:BRD-K76908866:10\"]\n",
    "\n",
    "# you can subset by rids, cids, or both rids and cids \n",
    "mini_gctoo_subset = parse.parse(\"functional_tests/mini_gctx_with_metadata_n2x3.gctx\", rid = my_rids, cid= my_cids)\n",
    "mini_gctoo_subset.row_metadata_df"
   ]
  },
  {
   "cell_type": "code",
   "execution_count": 11,
   "metadata": {
    "collapsed": false
   },
   "outputs": [
    {
     "data": {
      "text/plain": [
       "(2, 1)"
      ]
     },
     "execution_count": 11,
     "metadata": {},
     "output_type": "execute_result"
    }
   ],
   "source": [
    "mini_gctoo_subset.data_df.shape"
   ]
  },
  {
   "cell_type": "code",
   "execution_count": 12,
   "metadata": {
    "collapsed": false
   },
   "outputs": [
    {
     "data": {
      "text/html": [
       "<div>\n",
       "<table border=\"1\" class=\"dataframe\">\n",
       "  <thead>\n",
       "    <tr style=\"text-align: right;\">\n",
       "      <th>chd</th>\n",
       "      <th>bead_batch</th>\n",
       "      <th>bead_revision</th>\n",
       "    </tr>\n",
       "    <tr>\n",
       "      <th>cid</th>\n",
       "      <th></th>\n",
       "      <th></th>\n",
       "    </tr>\n",
       "  </thead>\n",
       "  <tbody>\n",
       "    <tr>\n",
       "      <th>LJP005_A375_24H:BRD-K76908866:10</th>\n",
       "      <td>b19</td>\n",
       "      <td>r2</td>\n",
       "    </tr>\n",
       "  </tbody>\n",
       "</table>\n",
       "</div>"
      ],
      "text/plain": [
       "chd                              bead_batch bead_revision\n",
       "cid                                                      \n",
       "LJP005_A375_24H:BRD-K76908866:10        b19            r2"
      ]
     },
     "execution_count": 12,
     "metadata": {},
     "output_type": "execute_result"
    }
   ],
   "source": [
    "mini_gctoo_subset.col_metadata_df"
   ]
  },
  {
   "cell_type": "markdown",
   "metadata": {},
   "source": [
    "# Construct a GCToo object programatically\n",
    "\n",
    "For instance, say we want to create a GCToo instance of a file we've read in (for this example, let's use `my_gctoo`) that lacks metadata."
   ]
  },
  {
   "cell_type": "code",
   "execution_count": 48,
   "metadata": {
    "collapsed": false
   },
   "outputs": [
    {
     "data": {
      "text/plain": [
       "(978, 0)"
      ]
     },
     "execution_count": 48,
     "metadata": {},
     "output_type": "execute_result"
    }
   ],
   "source": [
    "import pandas as pd\n",
    "from broadinstitute_cmap.io.GCToo import GCToo\n",
    "from broadinstitute_cmap.io.GCToo import parse\n",
    "\n",
    "my_gctoo = parse.parse(\"functional_tests/both_metadata_example_n1476x978.gctx\")\n",
    "\n",
    "minimal_row_meta = pd.DataFrame(index = my_gctoo.row_metadata_df.index)\n",
    "minimal_col_meta = pd.DataFrame(index = my_gctoo.col_metadata_df.index)\n",
    "\n",
    "data_only_gctoo = GCToo.GCToo(data_df = my_gctoo.data_df, \n",
    " \trow_metadata_df = minimal_row_meta, col_metadata_df = minimal_col_meta)\n",
    "\n",
    "data_only_gctoo.row_metadata_df.shape"
   ]
  },
  {
   "cell_type": "code",
   "execution_count": 49,
   "metadata": {
    "collapsed": false
   },
   "outputs": [
    {
     "data": {
      "text/plain": [
       "(1476, 0)"
      ]
     },
     "execution_count": 49,
     "metadata": {},
     "output_type": "execute_result"
    }
   ],
   "source": [
    "data_only_gctoo.col_metadata_df.shape"
   ]
  },
  {
   "cell_type": "code",
   "execution_count": 50,
   "metadata": {
    "collapsed": false
   },
   "outputs": [
    {
     "data": {
      "text/plain": [
       "True"
      ]
     },
     "execution_count": 50,
     "metadata": {},
     "output_type": "execute_result"
    }
   ],
   "source": [
    "data_only_gctoo.data_df.shape == my_gctoo.data_df.shape"
   ]
  },
  {
   "cell_type": "markdown",
   "metadata": {
    "collapsed": true
   },
   "source": [
    "# Merging gct/x files\n"
   ]
  },
  {
   "cell_type": "markdown",
   "metadata": {},
   "source": [
    "## Several files (with consistent name prefix), from the command line\n",
    "\n",
    "Say you have a bunch of files that start with 'LINCS_GCP' in your Downloads folder that you want to concatenate. Type the following in your command line:\n",
    "\n",
    "```\n",
    "python /Users/some_name/code/l1ktools/python/broadinstitute_cmap/io/GCToo/concat_gctoo.py --file_wildcard '/Users/some_name/Downloads/LINCS_GCP*'\n",
    "```\n",
    "\n",
    "This will save a file called `concated.gctx` in your current directory. Make sure that the wildcard is in quotes!\n",
    "\n",
    "## Two files to concatenatenate, from a Python session \n",
    "\n",
    "You have 2 GCToo objects in memory that you want to concatenate. hstack is the method in concat_gctoo.py that actually does the concatenation. From within the Python console or script where you have your 2 GCToos (gct1 & gct2), type the following:"
   ]
  },
  {
   "cell_type": "code",
   "execution_count": 3,
   "metadata": {
    "collapsed": false
   },
   "outputs": [
    {
     "name": "stderr",
     "output_type": "stream",
     "text": [
      "INFO 2016-11-10 00:37:52,966 parse_gctoo parse Reading GCT: functional_tests/test_merge_left.gct\n",
      "INFO 2016-11-10 00:37:52,981 parse_gctoo parse Reading GCT: functional_tests/test_merge_right.gct\n",
      "INFO 2016-11-10 00:37:53,002 concat_gctoo hstack build GCToo of all...\n"
     ]
    },
    {
     "data": {
      "text/plain": [
       "(4, 3)"
      ]
     },
     "execution_count": 3,
     "metadata": {},
     "output_type": "execute_result"
    }
   ],
   "source": [
    "from broadinstitute_cmap.io.GCToo import concat_gctoo\n",
    "from broadinstitute_cmap.io.GCToo import parse\n",
    "\n",
    "gct1 = parse.parse(\"functional_tests/test_merge_left.gct\")\n",
    "gct2 = parse.parse(\"functional_tests/test_merge_right.gct\")\n",
    "merged_gcts = concat_gctoo.hstack([gct1, gct2])\n",
    "\n",
    "gct1.data_df.shape"
   ]
  },
  {
   "cell_type": "code",
   "execution_count": 4,
   "metadata": {
    "collapsed": false
   },
   "outputs": [
    {
     "data": {
      "text/plain": [
       "(3, 3)"
      ]
     },
     "execution_count": 4,
     "metadata": {},
     "output_type": "execute_result"
    }
   ],
   "source": [
    "gct2.data_df.shape"
   ]
  },
  {
   "cell_type": "code",
   "execution_count": 5,
   "metadata": {
    "collapsed": false
   },
   "outputs": [
    {
     "data": {
      "text/plain": [
       "(4, 6)"
      ]
     },
     "execution_count": 5,
     "metadata": {},
     "output_type": "execute_result"
    }
   ],
   "source": [
    "merged_gcts.data_df.shape"
   ]
  },
  {
   "cell_type": "markdown",
   "metadata": {},
   "source": [
    "Note that there are also 3 optional arguments to hstack to work around certain obstacles common to concatenation. The full list of arguments to hstack are:\n",
    "\n",
    "```\n",
    "hstack(gctoos_list, fields_to_remove=None, reset_sample_ids=False,\n",
    "    sort_headers=False)\n",
    "```\n",
    "\n",
    "1)  fields_to_remove: If the row metadata contains headers with values that are not the same in all files, then you can remove these headers using the fields_to_remove argument.\n",
    "\n",
    "2) reset_sample_ids: If the sample ids are not unique between different files, you can use the reset_sample_ids argument. This will move the cids to a new metadata field and assign a unique integer index for each sample.\n",
    "\n",
    "3)  sort_headers: If the row metadata headers are the same between different files but not in the same order, you can sort them using the sort_headers argument.\n",
    "\n",
    "## Two files to concatenate, from the command line \n",
    "\n",
    "Say you have 2 files that you want to concatenate: /Users/some_name/file_to_concatenate1.gct and /Users/some_name/file_to_concatenate2.gct. Type the following in your command line:\n",
    "\n",
    "```\n",
    "python /Users/some_name/code/l1ktools/python/broadinstitute_cmap/io/GCToo/concat_gctoo.py --list_of_gct_paths /Users/some_name/file_to_concatenate1.gct /Users/some_name/file_to_concatenate2.gct\n",
    "```\n",
    "\n",
    "Optional arguments are as above (for hstack). "
   ]
  },
  {
   "cell_type": "markdown",
   "metadata": {},
   "source": [
    "# Slicing gct/x files "
   ]
  },
  {
   "cell_type": "markdown",
   "metadata": {},
   "source": [
    "Can be done from the command line or an active python session (assume you've already parsed in a file and have an instance of GCToo called mini_gctoo). For this use case, you'll need to have a list of desired and/or undesired rids and/or cids already (can be obtained from doing Use Case 2 or by other means). For example:"
   ]
  },
  {
   "cell_type": "code",
   "execution_count": 9,
   "metadata": {
    "collapsed": false
   },
   "outputs": [
    {
     "data": {
      "text/plain": [
       "(2, 1)"
      ]
     },
     "execution_count": 9,
     "metadata": {},
     "output_type": "execute_result"
    }
   ],
   "source": [
    "from broadinstitute_cmap.io.GCToo import parse\n",
    "from broadinstitute_cmap.io.GCToo import slice_gct\n",
    "\n",
    "mini_gctoo = parse.parse(\"functional_tests/mini_gctx_with_metadata_n2x3.gctx\")\n",
    "\n",
    "interesting_rids = [\"218597_s_at\", \"200814_at\"]\n",
    "interesting_cids = [\"LJP005_A375_24H:BRD-K76908866:10\"]\n",
    "boring_rids = [\"217140_s_at\"]\n",
    "\n",
    "sliced_gctoo = slice_gct.slice_gctoo(mini_gctoo, rid = interesting_rids, cid = interesting_cids, exclude_rid = boring_rids)\n",
    "\n",
    "sliced_gctoo.data_df.shape"
   ]
  },
  {
   "cell_type": "markdown",
   "metadata": {},
   "source": [
    "# Add/delete annotations\n",
    "\n",
    "First, let's take the simplest case. You have a GCToo instance with metadata and want to add a list **that you know is ordered already like the rids of the row metadata**. "
   ]
  },
  {
   "cell_type": "code",
   "execution_count": 10,
   "metadata": {
    "collapsed": false
   },
   "outputs": [
    {
     "data": {
      "text/html": [
       "<div>\n",
       "<table border=\"1\" class=\"dataframe\">\n",
       "  <thead>\n",
       "    <tr style=\"text-align: right;\">\n",
       "      <th>rhd</th>\n",
       "      <th>pr_analyte_id</th>\n",
       "      <th>pr_analyte_num</th>\n",
       "      <th>pr_gene_id</th>\n",
       "      <th>pr_model_id</th>\n",
       "    </tr>\n",
       "    <tr>\n",
       "      <th>rid</th>\n",
       "      <th></th>\n",
       "      <th></th>\n",
       "      <th></th>\n",
       "      <th></th>\n",
       "    </tr>\n",
       "  </thead>\n",
       "  <tbody>\n",
       "    <tr>\n",
       "      <th>200814_at</th>\n",
       "      <td>Analyte 11</td>\n",
       "      <td>11</td>\n",
       "      <td>5720</td>\n",
       "      <td>NaN</td>\n",
       "    </tr>\n",
       "    <tr>\n",
       "      <th>218597_s_at</th>\n",
       "      <td>Analyte 12</td>\n",
       "      <td>12</td>\n",
       "      <td>55847</td>\n",
       "      <td>NaN</td>\n",
       "    </tr>\n",
       "    <tr>\n",
       "      <th>217140_s_at</th>\n",
       "      <td>Analyte 12</td>\n",
       "      <td>12</td>\n",
       "      <td>7416</td>\n",
       "      <td>NaN</td>\n",
       "    </tr>\n",
       "  </tbody>\n",
       "</table>\n",
       "</div>"
      ],
      "text/plain": [
       "rhd         pr_analyte_id  pr_analyte_num  pr_gene_id  pr_model_id\n",
       "rid                                                               \n",
       "200814_at      Analyte 11              11        5720          NaN\n",
       "218597_s_at    Analyte 12              12       55847          NaN\n",
       "217140_s_at    Analyte 12              12        7416          NaN"
      ]
     },
     "execution_count": 10,
     "metadata": {},
     "output_type": "execute_result"
    }
   ],
   "source": [
    "from broadinstitute_cmap.io.GCToo import parse \n",
    "\n",
    "mini = parse.parse(\"functional_tests/mini_gctx_with_metadata_n2x3.gctx\")\n",
    "mini.row_metadata_df"
   ]
  },
  {
   "cell_type": "code",
   "execution_count": 11,
   "metadata": {
    "collapsed": false
   },
   "outputs": [
    {
     "data": {
      "text/html": [
       "<div>\n",
       "<table border=\"1\" class=\"dataframe\">\n",
       "  <thead>\n",
       "    <tr style=\"text-align: right;\">\n",
       "      <th>rhd</th>\n",
       "      <th>pr_analyte_id</th>\n",
       "      <th>pr_analyte_num</th>\n",
       "      <th>pr_gene_id</th>\n",
       "    </tr>\n",
       "    <tr>\n",
       "      <th>rid</th>\n",
       "      <th></th>\n",
       "      <th></th>\n",
       "      <th></th>\n",
       "    </tr>\n",
       "  </thead>\n",
       "  <tbody>\n",
       "    <tr>\n",
       "      <th>200814_at</th>\n",
       "      <td>Analyte 11</td>\n",
       "      <td>11</td>\n",
       "      <td>5720</td>\n",
       "    </tr>\n",
       "    <tr>\n",
       "      <th>218597_s_at</th>\n",
       "      <td>Analyte 12</td>\n",
       "      <td>12</td>\n",
       "      <td>55847</td>\n",
       "    </tr>\n",
       "    <tr>\n",
       "      <th>217140_s_at</th>\n",
       "      <td>Analyte 12</td>\n",
       "      <td>12</td>\n",
       "      <td>7416</td>\n",
       "    </tr>\n",
       "  </tbody>\n",
       "</table>\n",
       "</div>"
      ],
      "text/plain": [
       "rhd         pr_analyte_id  pr_analyte_num  pr_gene_id\n",
       "rid                                                  \n",
       "200814_at      Analyte 11              11        5720\n",
       "218597_s_at    Analyte 12              12       55847\n",
       "217140_s_at    Analyte 12              12        7416"
      ]
     },
     "execution_count": 11,
     "metadata": {},
     "output_type": "execute_result"
    }
   ],
   "source": [
    "# now delete the column \"pr_model_id\" (it's all NaN anyway, so say we don't care about it)\n",
    "del mini.row_metadata_df[\"pr_model_id\"]\n",
    "mini.row_metadata_df "
   ]
  },
  {
   "cell_type": "code",
   "execution_count": 12,
   "metadata": {
    "collapsed": false
   },
   "outputs": [
    {
     "data": {
      "text/html": [
       "<div>\n",
       "<table border=\"1\" class=\"dataframe\">\n",
       "  <thead>\n",
       "    <tr style=\"text-align: right;\">\n",
       "      <th>rhd</th>\n",
       "      <th>pr_analyte_id</th>\n",
       "      <th>pr_analyte_num</th>\n",
       "      <th>pr_gene_id</th>\n",
       "      <th>is_this_fun</th>\n",
       "    </tr>\n",
       "    <tr>\n",
       "      <th>rid</th>\n",
       "      <th></th>\n",
       "      <th></th>\n",
       "      <th></th>\n",
       "      <th></th>\n",
       "    </tr>\n",
       "  </thead>\n",
       "  <tbody>\n",
       "    <tr>\n",
       "      <th>200814_at</th>\n",
       "      <td>Analyte 11</td>\n",
       "      <td>11</td>\n",
       "      <td>5720</td>\n",
       "      <td>yes</td>\n",
       "    </tr>\n",
       "    <tr>\n",
       "      <th>218597_s_at</th>\n",
       "      <td>Analyte 12</td>\n",
       "      <td>12</td>\n",
       "      <td>55847</td>\n",
       "      <td>yes</td>\n",
       "    </tr>\n",
       "    <tr>\n",
       "      <th>217140_s_at</th>\n",
       "      <td>Analyte 12</td>\n",
       "      <td>12</td>\n",
       "      <td>7416</td>\n",
       "      <td>maybe</td>\n",
       "    </tr>\n",
       "  </tbody>\n",
       "</table>\n",
       "</div>"
      ],
      "text/plain": [
       "rhd         pr_analyte_id  pr_analyte_num  pr_gene_id is_this_fun\n",
       "rid                                                              \n",
       "200814_at      Analyte 11              11        5720         yes\n",
       "218597_s_at    Analyte 12              12       55847         yes\n",
       "217140_s_at    Analyte 12              12        7416       maybe"
      ]
     },
     "execution_count": 12,
     "metadata": {},
     "output_type": "execute_result"
    }
   ],
   "source": [
    "# now add a column from a list \n",
    "mini.row_metadata_df[\"is_this_fun\"] = [\"yes\",\"yes\", \"maybe\"]\n",
    "\n",
    "mini.row_metadata_df"
   ]
  },
  {
   "cell_type": "code",
   "execution_count": 27,
   "metadata": {
    "collapsed": false
   },
   "outputs": [
    {
     "data": {
      "text/html": [
       "<div>\n",
       "<table border=\"1\" class=\"dataframe\">\n",
       "  <thead>\n",
       "    <tr style=\"text-align: right;\">\n",
       "      <th></th>\n",
       "      <th>important_metric</th>\n",
       "    </tr>\n",
       "  </thead>\n",
       "  <tbody>\n",
       "    <tr>\n",
       "      <th>217140_s_at</th>\n",
       "      <td>89</td>\n",
       "    </tr>\n",
       "    <tr>\n",
       "      <th>200814_at</th>\n",
       "      <td>9137430</td>\n",
       "    </tr>\n",
       "    <tr>\n",
       "      <th>218597_s_at</th>\n",
       "      <td>3</td>\n",
       "    </tr>\n",
       "  </tbody>\n",
       "</table>\n",
       "</div>"
      ],
      "text/plain": [
       "             important_metric\n",
       "217140_s_at                89\n",
       "200814_at             9137430\n",
       "218597_s_at                 3"
      ]
     },
     "execution_count": 27,
     "metadata": {},
     "output_type": "execute_result"
    }
   ],
   "source": [
    "# BUT: This assumes the new column is ordered the same as the rids. \n",
    "# If this isn't the case:\n",
    "\n",
    "import pandas as pd\n",
    "\n",
    "mini = parse.parse(\"functional_tests/mini_gctx_with_metadata_n2x3.gctx\")\n",
    "mini.row_metadata_df\n",
    "\n",
    "new_annotation = pd.DataFrame([89, 9137430, 3], index = [\"217140_s_at\",\"200814_at\", \"218597_s_at\"], columns = [\"important_metric\"])\n",
    "new_annotation"
   ]
  },
  {
   "cell_type": "code",
   "execution_count": 28,
   "metadata": {
    "collapsed": false
   },
   "outputs": [
    {
     "data": {
      "text/html": [
       "<div>\n",
       "<table border=\"1\" class=\"dataframe\">\n",
       "  <thead>\n",
       "    <tr style=\"text-align: right;\">\n",
       "      <th>rhd</th>\n",
       "      <th>pr_analyte_id</th>\n",
       "      <th>pr_analyte_num</th>\n",
       "      <th>pr_gene_id</th>\n",
       "      <th>pr_model_id</th>\n",
       "      <th>important_metric</th>\n",
       "    </tr>\n",
       "  </thead>\n",
       "  <tbody>\n",
       "    <tr>\n",
       "      <th>217140_s_at</th>\n",
       "      <td>Analyte 12</td>\n",
       "      <td>12</td>\n",
       "      <td>7416</td>\n",
       "      <td>NaN</td>\n",
       "      <td>89</td>\n",
       "    </tr>\n",
       "    <tr>\n",
       "      <th>200814_at</th>\n",
       "      <td>Analyte 11</td>\n",
       "      <td>11</td>\n",
       "      <td>5720</td>\n",
       "      <td>NaN</td>\n",
       "      <td>9137430</td>\n",
       "    </tr>\n",
       "    <tr>\n",
       "      <th>218597_s_at</th>\n",
       "      <td>Analyte 12</td>\n",
       "      <td>12</td>\n",
       "      <td>55847</td>\n",
       "      <td>NaN</td>\n",
       "      <td>3</td>\n",
       "    </tr>\n",
       "  </tbody>\n",
       "</table>\n",
       "</div>"
      ],
      "text/plain": [
       "rhd         pr_analyte_id  pr_analyte_num  pr_gene_id  pr_model_id  \\\n",
       "217140_s_at    Analyte 12              12        7416          NaN   \n",
       "200814_at      Analyte 11              11        5720          NaN   \n",
       "218597_s_at    Analyte 12              12       55847          NaN   \n",
       "\n",
       "rhd          important_metric  \n",
       "217140_s_at                89  \n",
       "200814_at             9137430  \n",
       "218597_s_at                 3  "
      ]
     },
     "execution_count": 28,
     "metadata": {},
     "output_type": "execute_result"
    }
   ],
   "source": [
    "mini.row_metadata_df = pd.merge(mini.row_metadata_df, new_annotation, left_index=True, right_index=True)\n",
    "mini.row_metadata_df"
   ]
  },
  {
   "cell_type": "markdown",
   "metadata": {},
   "source": [
    "# Transpose a GCToo"
   ]
  },
  {
   "cell_type": "code",
   "execution_count": 33,
   "metadata": {
    "collapsed": false
   },
   "outputs": [
    {
     "data": {
      "text/html": [
       "<div>\n",
       "<table border=\"1\" class=\"dataframe\">\n",
       "  <thead>\n",
       "    <tr>\n",
       "      <th></th>\n",
       "      <th></th>\n",
       "      <th></th>\n",
       "      <th></th>\n",
       "      <th>bead_batch</th>\n",
       "      <th colspan=\"2\" halign=\"left\">b19</th>\n",
       "    </tr>\n",
       "    <tr>\n",
       "      <th></th>\n",
       "      <th></th>\n",
       "      <th></th>\n",
       "      <th></th>\n",
       "      <th>bead_revision</th>\n",
       "      <th colspan=\"2\" halign=\"left\">r2</th>\n",
       "    </tr>\n",
       "    <tr>\n",
       "      <th></th>\n",
       "      <th></th>\n",
       "      <th></th>\n",
       "      <th></th>\n",
       "      <th>cid</th>\n",
       "      <th>LJP005_A375_24H:DMSO:-666</th>\n",
       "      <th>LJP005_A375_24H:BRD-K76908866:10</th>\n",
       "    </tr>\n",
       "    <tr>\n",
       "      <th>pr_analyte_id</th>\n",
       "      <th>pr_analyte_num</th>\n",
       "      <th>pr_gene_id</th>\n",
       "      <th>pr_model_id</th>\n",
       "      <th>rid</th>\n",
       "      <th></th>\n",
       "      <th></th>\n",
       "    </tr>\n",
       "  </thead>\n",
       "  <tbody>\n",
       "    <tr>\n",
       "      <th>Analyte 11</th>\n",
       "      <th>11</th>\n",
       "      <th>5720</th>\n",
       "      <th>NaN</th>\n",
       "      <th>200814_at</th>\n",
       "      <td>-0.283359</td>\n",
       "      <td>0.011270</td>\n",
       "    </tr>\n",
       "    <tr>\n",
       "      <th rowspan=\"2\" valign=\"top\">Analyte 12</th>\n",
       "      <th rowspan=\"2\" valign=\"top\">12</th>\n",
       "      <th>55847</th>\n",
       "      <th>NaN</th>\n",
       "      <th>218597_s_at</th>\n",
       "      <td>0.304119</td>\n",
       "      <td>1.921061</td>\n",
       "    </tr>\n",
       "    <tr>\n",
       "      <th>7416</th>\n",
       "      <th>NaN</th>\n",
       "      <th>217140_s_at</th>\n",
       "      <td>0.398655</td>\n",
       "      <td>-0.144652</td>\n",
       "    </tr>\n",
       "  </tbody>\n",
       "</table>\n",
       "</div>"
      ],
      "text/plain": [
       "bead_batch                                                                            b19  \\\n",
       "bead_revision                                                                          r2   \n",
       "cid                                                             LJP005_A375_24H:DMSO:-666   \n",
       "pr_analyte_id pr_analyte_num pr_gene_id pr_model_id rid                                     \n",
       "Analyte 11    11             5720       NaN         200814_at                   -0.283359   \n",
       "Analyte 12    12             55847      NaN         218597_s_at                  0.304119   \n",
       "                             7416       NaN         217140_s_at                  0.398655   \n",
       "\n",
       "bead_batch                                                                                        \n",
       "bead_revision                                                                                     \n",
       "cid                                                             LJP005_A375_24H:BRD-K76908866:10  \n",
       "pr_analyte_id pr_analyte_num pr_gene_id pr_model_id rid                                           \n",
       "Analyte 11    11             5720       NaN         200814_at                           0.011270  \n",
       "Analyte 12    12             55847      NaN         218597_s_at                         1.921061  \n",
       "                             7416       NaN         217140_s_at                        -0.144652  "
      ]
     },
     "execution_count": 33,
     "metadata": {},
     "output_type": "execute_result"
    }
   ],
   "source": [
    "from broadinstitute_cmap.io.GCToo import GCToo\n",
    "from broadinstitute_cmap.io.GCToo import parse \n",
    "\n",
    "mini = parse.parse(\"functional_tests/mini_gctx_with_metadata_n2x3.gctx\")\n",
    "mini.multi_index_df "
   ]
  },
  {
   "cell_type": "code",
   "execution_count": 32,
   "metadata": {
    "collapsed": false
   },
   "outputs": [
    {
     "data": {
      "text/html": [
       "<div>\n",
       "<table border=\"1\" class=\"dataframe\">\n",
       "  <thead>\n",
       "    <tr>\n",
       "      <th></th>\n",
       "      <th></th>\n",
       "      <th>pr_analyte_id</th>\n",
       "      <th>Analyte 11</th>\n",
       "      <th colspan=\"2\" halign=\"left\">Analyte 12</th>\n",
       "    </tr>\n",
       "    <tr>\n",
       "      <th></th>\n",
       "      <th></th>\n",
       "      <th>pr_analyte_num</th>\n",
       "      <th>11</th>\n",
       "      <th colspan=\"2\" halign=\"left\">12</th>\n",
       "    </tr>\n",
       "    <tr>\n",
       "      <th></th>\n",
       "      <th></th>\n",
       "      <th>pr_gene_id</th>\n",
       "      <th>5720</th>\n",
       "      <th>55847</th>\n",
       "      <th>7416</th>\n",
       "    </tr>\n",
       "    <tr>\n",
       "      <th></th>\n",
       "      <th></th>\n",
       "      <th>pr_model_id</th>\n",
       "      <th>NaN</th>\n",
       "      <th>NaN</th>\n",
       "      <th>NaN</th>\n",
       "    </tr>\n",
       "    <tr>\n",
       "      <th></th>\n",
       "      <th></th>\n",
       "      <th>cid</th>\n",
       "      <th>200814_at</th>\n",
       "      <th>218597_s_at</th>\n",
       "      <th>217140_s_at</th>\n",
       "    </tr>\n",
       "    <tr>\n",
       "      <th>bead_batch</th>\n",
       "      <th>bead_revision</th>\n",
       "      <th>rid</th>\n",
       "      <th></th>\n",
       "      <th></th>\n",
       "      <th></th>\n",
       "    </tr>\n",
       "  </thead>\n",
       "  <tbody>\n",
       "    <tr>\n",
       "      <th rowspan=\"2\" valign=\"top\">b19</th>\n",
       "      <th rowspan=\"2\" valign=\"top\">r2</th>\n",
       "      <th>LJP005_A375_24H:DMSO:-666</th>\n",
       "      <td>-0.283359</td>\n",
       "      <td>0.304119</td>\n",
       "      <td>0.398655</td>\n",
       "    </tr>\n",
       "    <tr>\n",
       "      <th>LJP005_A375_24H:BRD-K76908866:10</th>\n",
       "      <td>0.011270</td>\n",
       "      <td>1.921061</td>\n",
       "      <td>-0.144652</td>\n",
       "    </tr>\n",
       "  </tbody>\n",
       "</table>\n",
       "</div>"
      ],
      "text/plain": [
       "pr_analyte_id                                             Analyte 11  \\\n",
       "pr_analyte_num                                                    11   \n",
       "pr_gene_id                                                     5720    \n",
       "pr_model_id                                                      NaN   \n",
       "cid                                                        200814_at   \n",
       "bead_batch bead_revision rid                                           \n",
       "b19        r2            LJP005_A375_24H:DMSO:-666         -0.283359   \n",
       "                         LJP005_A375_24H:BRD-K76908866:10   0.011270   \n",
       "\n",
       "pr_analyte_id                                              Analyte 12  \\\n",
       "pr_analyte_num                                                     12   \n",
       "pr_gene_id                                                      55847   \n",
       "pr_model_id                                                       NaN   \n",
       "cid                                                       218597_s_at   \n",
       "bead_batch bead_revision rid                                            \n",
       "b19        r2            LJP005_A375_24H:DMSO:-666           0.304119   \n",
       "                         LJP005_A375_24H:BRD-K76908866:10    1.921061   \n",
       "\n",
       "pr_analyte_id                                                          \n",
       "pr_analyte_num                                                         \n",
       "pr_gene_id                                                      7416   \n",
       "pr_model_id                                                       NaN  \n",
       "cid                                                       217140_s_at  \n",
       "bead_batch bead_revision rid                                           \n",
       "b19        r2            LJP005_A375_24H:DMSO:-666           0.398655  \n",
       "                         LJP005_A375_24H:BRD-K76908866:10   -0.144652  "
      ]
     },
     "execution_count": 32,
     "metadata": {},
     "output_type": "execute_result"
    }
   ],
   "source": [
    "transposed_mini = GCToo.GCToo(data_df = mini.data_df.transpose(), \n",
    "\trow_metadata_df = mini.col_metadata_df, col_metadata_df = mini.row_metadata_df)\n",
    "\n",
    "transposed_mini.multi_index_df"
   ]
  },
  {
   "cell_type": "markdown",
   "metadata": {},
   "source": [
    "# Column or row-wise basic math\n",
    "\n",
    "## Column/row-wise means"
   ]
  },
  {
   "cell_type": "code",
   "execution_count": 40,
   "metadata": {
    "collapsed": false
   },
   "outputs": [
    {
     "data": {
      "text/html": [
       "<div>\n",
       "<table border=\"1\" class=\"dataframe\">\n",
       "  <thead>\n",
       "    <tr style=\"text-align: right;\">\n",
       "      <th></th>\n",
       "      <th>cid</th>\n",
       "    </tr>\n",
       "    <tr>\n",
       "      <th>rid</th>\n",
       "      <th></th>\n",
       "    </tr>\n",
       "  </thead>\n",
       "  <tbody>\n",
       "    <tr>\n",
       "      <th>200814_at</th>\n",
       "      <td>-0.136045</td>\n",
       "    </tr>\n",
       "    <tr>\n",
       "      <th>218597_s_at</th>\n",
       "      <td>1.112590</td>\n",
       "    </tr>\n",
       "    <tr>\n",
       "      <th>217140_s_at</th>\n",
       "      <td>0.127002</td>\n",
       "    </tr>\n",
       "  </tbody>\n",
       "</table>\n",
       "</div>"
      ],
      "text/plain": [
       "                  cid\n",
       "rid                  \n",
       "200814_at   -0.136045\n",
       "218597_s_at  1.112590\n",
       "217140_s_at  0.127002"
      ]
     },
     "execution_count": 40,
     "metadata": {},
     "output_type": "execute_result"
    }
   ],
   "source": [
    "from broadinstitute_cmap.io.GCToo import parse \n",
    "import pandas as pd\n",
    "\n",
    "mini = parse.parse(\"functional_tests/mini_gctx_with_metadata_n2x3.gctx\")\n",
    "# by row\n",
    "rowwise_mean = mini.data_df.mean(axis = 0)\n",
    "# by col\n",
    "colwise_mean = mini.data_df.mean(axis = 1)\n",
    "\n",
    "# want to write to a GCToo? Easy!\n",
    "colwise_mean_mini_gctoo = GCToo.GCToo(data_df = pd.DataFrame(colwise_mean, columns=[\"cid\"]), \n",
    "\trow_metadata_df = mini.row_metadata_df, col_metadata_df = pd.DataFrame([\"colwise_mean\"], index=[\"cid\"]))\n",
    "colwise_mean_mini_gctoo.data_df"
   ]
  },
  {
   "cell_type": "markdown",
   "metadata": {},
   "source": [
    "## Pairwise correlation of columns\n",
    "\n",
    "Notes: \n",
    "- To do correlation by rows using pandas method, transpose data_df first.\n",
    "- pandas' default correlation metric is pearson."
   ]
  },
  {
   "cell_type": "code",
   "execution_count": 41,
   "metadata": {
    "collapsed": false
   },
   "outputs": [
    {
     "data": {
      "text/html": [
       "<div>\n",
       "<table border=\"1\" class=\"dataframe\">\n",
       "  <thead>\n",
       "    <tr style=\"text-align: right;\">\n",
       "      <th>cid</th>\n",
       "      <th>LJP005_A375_24H:DMSO:-666</th>\n",
       "      <th>LJP005_A375_24H:BRD-K76908866:10</th>\n",
       "    </tr>\n",
       "    <tr>\n",
       "      <th>cid</th>\n",
       "      <th></th>\n",
       "      <th></th>\n",
       "    </tr>\n",
       "  </thead>\n",
       "  <tbody>\n",
       "    <tr>\n",
       "      <th>LJP005_A375_24H:DMSO:-666</th>\n",
       "      <td>1.0</td>\n",
       "      <td>-0.5</td>\n",
       "    </tr>\n",
       "    <tr>\n",
       "      <th>LJP005_A375_24H:BRD-K76908866:10</th>\n",
       "      <td>-0.5</td>\n",
       "      <td>1.0</td>\n",
       "    </tr>\n",
       "  </tbody>\n",
       "</table>\n",
       "</div>"
      ],
      "text/plain": [
       "cid                               LJP005_A375_24H:DMSO:-666  \\\n",
       "cid                                                           \n",
       "LJP005_A375_24H:DMSO:-666                               1.0   \n",
       "LJP005_A375_24H:BRD-K76908866:10                       -0.5   \n",
       "\n",
       "cid                               LJP005_A375_24H:BRD-K76908866:10  \n",
       "cid                                                                 \n",
       "LJP005_A375_24H:DMSO:-666                                     -0.5  \n",
       "LJP005_A375_24H:BRD-K76908866:10                               1.0  "
      ]
     },
     "execution_count": 41,
     "metadata": {},
     "output_type": "execute_result"
    }
   ],
   "source": [
    "mini.data_df.corr(method = \"spearman\")"
   ]
  },
  {
   "cell_type": "markdown",
   "metadata": {},
   "source": [
    "## Aggregation by specified grouping \n",
    "\n",
    "This tasks is particularly well-suited to the multi-index DataFrame attribute of a GCToo instance."
   ]
  },
  {
   "cell_type": "code",
   "execution_count": 42,
   "metadata": {
    "collapsed": false
   },
   "outputs": [
    {
     "data": {
      "text/html": [
       "<div>\n",
       "<table border=\"1\" class=\"dataframe\">\n",
       "  <thead>\n",
       "    <tr>\n",
       "      <th></th>\n",
       "      <th></th>\n",
       "      <th></th>\n",
       "      <th></th>\n",
       "      <th>bead_batch</th>\n",
       "      <th colspan=\"2\" halign=\"left\">b19</th>\n",
       "    </tr>\n",
       "    <tr>\n",
       "      <th></th>\n",
       "      <th></th>\n",
       "      <th></th>\n",
       "      <th></th>\n",
       "      <th>bead_revision</th>\n",
       "      <th colspan=\"2\" halign=\"left\">r2</th>\n",
       "    </tr>\n",
       "    <tr>\n",
       "      <th></th>\n",
       "      <th></th>\n",
       "      <th></th>\n",
       "      <th></th>\n",
       "      <th>cid</th>\n",
       "      <th>LJP005_A375_24H:DMSO:-666</th>\n",
       "      <th>LJP005_A375_24H:BRD-K76908866:10</th>\n",
       "    </tr>\n",
       "    <tr>\n",
       "      <th>pr_analyte_id</th>\n",
       "      <th>pr_analyte_num</th>\n",
       "      <th>pr_gene_id</th>\n",
       "      <th>pr_model_id</th>\n",
       "      <th>rid</th>\n",
       "      <th></th>\n",
       "      <th></th>\n",
       "    </tr>\n",
       "  </thead>\n",
       "  <tbody>\n",
       "    <tr>\n",
       "      <th>Analyte 11</th>\n",
       "      <th>11</th>\n",
       "      <th>5720</th>\n",
       "      <th>NaN</th>\n",
       "      <th>200814_at</th>\n",
       "      <td>-0.283359</td>\n",
       "      <td>0.011270</td>\n",
       "    </tr>\n",
       "    <tr>\n",
       "      <th rowspan=\"2\" valign=\"top\">Analyte 12</th>\n",
       "      <th rowspan=\"2\" valign=\"top\">12</th>\n",
       "      <th>55847</th>\n",
       "      <th>NaN</th>\n",
       "      <th>218597_s_at</th>\n",
       "      <td>0.304119</td>\n",
       "      <td>1.921061</td>\n",
       "    </tr>\n",
       "    <tr>\n",
       "      <th>7416</th>\n",
       "      <th>NaN</th>\n",
       "      <th>217140_s_at</th>\n",
       "      <td>0.398655</td>\n",
       "      <td>-0.144652</td>\n",
       "    </tr>\n",
       "  </tbody>\n",
       "</table>\n",
       "</div>"
      ],
      "text/plain": [
       "bead_batch                                                                            b19  \\\n",
       "bead_revision                                                                          r2   \n",
       "cid                                                             LJP005_A375_24H:DMSO:-666   \n",
       "pr_analyte_id pr_analyte_num pr_gene_id pr_model_id rid                                     \n",
       "Analyte 11    11             5720       NaN         200814_at                   -0.283359   \n",
       "Analyte 12    12             55847      NaN         218597_s_at                  0.304119   \n",
       "                             7416       NaN         217140_s_at                  0.398655   \n",
       "\n",
       "bead_batch                                                                                        \n",
       "bead_revision                                                                                     \n",
       "cid                                                             LJP005_A375_24H:BRD-K76908866:10  \n",
       "pr_analyte_id pr_analyte_num pr_gene_id pr_model_id rid                                           \n",
       "Analyte 11    11             5720       NaN         200814_at                           0.011270  \n",
       "Analyte 12    12             55847      NaN         218597_s_at                         1.921061  \n",
       "                             7416       NaN         217140_s_at                        -0.144652  "
      ]
     },
     "execution_count": 42,
     "metadata": {},
     "output_type": "execute_result"
    }
   ],
   "source": [
    "mini.multi_index_df"
   ]
  },
  {
   "cell_type": "code",
   "execution_count": 43,
   "metadata": {
    "collapsed": false
   },
   "outputs": [
    {
     "data": {
      "text/html": [
       "<div>\n",
       "<table border=\"1\" class=\"dataframe\">\n",
       "  <thead>\n",
       "    <tr>\n",
       "      <th></th>\n",
       "      <th>bead_batch</th>\n",
       "      <th colspan=\"2\" halign=\"left\">b19</th>\n",
       "    </tr>\n",
       "    <tr>\n",
       "      <th></th>\n",
       "      <th>bead_revision</th>\n",
       "      <th colspan=\"2\" halign=\"left\">r2</th>\n",
       "    </tr>\n",
       "    <tr>\n",
       "      <th></th>\n",
       "      <th>cid</th>\n",
       "      <th>LJP005_A375_24H:DMSO:-666</th>\n",
       "      <th>LJP005_A375_24H:BRD-K76908866:10</th>\n",
       "    </tr>\n",
       "    <tr>\n",
       "      <th>pr_analyte_id</th>\n",
       "      <th>pr_gene_id</th>\n",
       "      <th></th>\n",
       "      <th></th>\n",
       "    </tr>\n",
       "  </thead>\n",
       "  <tbody>\n",
       "    <tr>\n",
       "      <th>Analyte 11</th>\n",
       "      <th>5720</th>\n",
       "      <td>-0.283359</td>\n",
       "      <td>0.011270</td>\n",
       "    </tr>\n",
       "    <tr>\n",
       "      <th rowspan=\"2\" valign=\"top\">Analyte 12</th>\n",
       "      <th>7416</th>\n",
       "      <td>0.398655</td>\n",
       "      <td>-0.144652</td>\n",
       "    </tr>\n",
       "    <tr>\n",
       "      <th>55847</th>\n",
       "      <td>0.304119</td>\n",
       "      <td>1.921061</td>\n",
       "    </tr>\n",
       "  </tbody>\n",
       "</table>\n",
       "</div>"
      ],
      "text/plain": [
       "bead_batch                                     b19  \\\n",
       "bead_revision                                   r2   \n",
       "cid                      LJP005_A375_24H:DMSO:-666   \n",
       "pr_analyte_id pr_gene_id                             \n",
       "Analyte 11    5720                       -0.283359   \n",
       "Analyte 12    7416                        0.398655   \n",
       "              55847                       0.304119   \n",
       "\n",
       "bead_batch                                                 \n",
       "bead_revision                                              \n",
       "cid                      LJP005_A375_24H:BRD-K76908866:10  \n",
       "pr_analyte_id pr_gene_id                                   \n",
       "Analyte 11    5720                               0.011270  \n",
       "Analyte 12    7416                              -0.144652  \n",
       "              55847                              1.921061  "
      ]
     },
     "execution_count": 43,
     "metadata": {},
     "output_type": "execute_result"
    }
   ],
   "source": [
    "# Say you want to group by pr_analyte_id and pr_gene_id,\n",
    "# And sum the values of these group members\n",
    "mini.multi_index_df.groupby(level=[\"pr_analyte_id\", \"pr_gene_id\"]).sum()"
   ]
  },
  {
   "cell_type": "markdown",
   "metadata": {},
   "source": [
    "# Write a GCToo instance to file \n",
    "\n",
    "Assume you're in an active python session in your local GCToo directory and have a GCToo instance (let's call it my_gctoo that you'd like to write to .gct or .gctx.\n",
    "\n",
    "To write to a GCT file:\n",
    "\n",
    "```\n",
    "import write_gct \n",
    "\n",
    "write_gct.write(my_gctoo, \"some/path/to/my_gctoo.gct\") \n",
    "```\n",
    "\n",
    "To write to a GCTX file:\n",
    "\n",
    "```\n",
    "import write_gctx\n",
    "\n",
    "write_gctx.write(my_gctoo, \"some/path/to/my_gctoo.gctx\")  \n",
    "```"
   ]
  },
  {
   "cell_type": "markdown",
   "metadata": {},
   "source": [
    "# Convert a gct -> gctx (or vice versa) from the command line\n",
    "\n",
    "Converting from a gct to a gctx might be useful if you have a large gct and want faster IO in the future. \n",
    "\n",
    "To write some_thing.gct -> some_thing.gctx in working directory:\n",
    "\n",
    "```\n",
    "python gct2gctx.py -filename some_thing.gct \n",
    "```\n",
    "\n",
    "To write some_thing.gct to a .gctx named something_else.gctx in a different out directory (both -outname and -outpath are optional):\n",
    "```\n",
    "python gct2gctx.py -filename some_thing.gct -outname something_else -outpath my/special/folder\n",
    "```\n",
    "\n",
    "Converting a gctx to a gct might be useful if you want to look at your .gctx file in a text editor or something similar. \n",
    "\n",
    "To write some_thing.gctx -> some_thing.gct in working directory:\n",
    "```\n",
    "python gctx2gct.py -filename some_thing.gctx\n",
    "```\n",
    "\n",
    "To write some_thing.gctx to a .gct named something_else.gct in a different out directory (both -outname and -outpath are optional):\n",
    "```\n",
    "python gctx2gct.py -filename some_thing.gctx -outname something_else -outpath my/special/folder\n",
    "```"
   ]
  }
 ],
 "metadata": {
  "anaconda-cloud": {},
  "kernelspec": {
   "display_name": "Python [conda env:GCToo]",
   "language": "python",
   "name": "conda-env-GCToo-py"
  },
  "language_info": {
   "codemirror_mode": {
    "name": "ipython",
    "version": 2
   },
   "file_extension": ".py",
   "mimetype": "text/x-python",
   "name": "python",
   "nbconvert_exporter": "python",
   "pygments_lexer": "ipython2",
   "version": "2.7.11"
  }
 },
 "nbformat": 4,
 "nbformat_minor": 1
}
