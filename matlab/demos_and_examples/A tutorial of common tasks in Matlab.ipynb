{
 "cells": [
  {
   "cell_type": "markdown",
   "metadata": {},
   "source": [
    "This notebook is a tutorial of common analysis tasks related to gct/x files.\n",
    "\n",
    "As a refresher, gct files are simply fancy text files that combine metadata with the data they describe. gctx files are the HDF5, binary versions, which are smaller and have faster IO time.\n",
    "\n",
    "## Reading in gct/x files\n",
    "\n",
    "** To read in a .gct or .gctx file:**"
   ]
  },
  {
   "cell_type": "code",
   "execution_count": 30,
   "metadata": {
    "collapsed": false
   },
   "outputs": [],
   "source": [
    "% gct and gctx files that we'll be using throughout the tutorial\n",
    "gctx_file_location = '../resources/example.gctx';\n",
    "gct_file_location = '../resources/example.gct';"
   ]
  },
  {
   "cell_type": "markdown",
   "metadata": {},
   "source": [
    "### gct"
   ]
  },
  {
   "cell_type": "code",
   "execution_count": 31,
   "metadata": {
    "collapsed": false
   },
   "outputs": [
    {
     "name": "stdout",
     "output_type": "stream",
     "text": [
      "Reading ../resources/example.gct [978x377]\n",
      "class:single\n",
      "read:978/978\n",
      "Done.\n",
      "\n",
      "\n",
      "ds = \n",
      "\n",
      "        mat: [978x377 single]\n",
      "        rid: {978x1 cell}\n",
      "        rhd: {11x1 cell}\n",
      "      rdesc: {978x11 cell}\n",
      "      rdict: [11x1 containers.Map]\n",
      "        cid: {377x1 cell}\n",
      "        chd: {35x1 cell}\n",
      "      cdesc: {377x35 cell}\n",
      "      cdict: [35x1 containers.Map]\n",
      "    version: '#1.3'\n",
      "        src: '../resources/example.gct'\n"
     ]
    }
   ],
   "source": [
    "ds = parse_gctx(gct_file_location)"
   ]
  },
  {
   "cell_type": "markdown",
   "metadata": {},
   "source": [
    "### gctx"
   ]
  },
  {
   "cell_type": "code",
   "execution_count": 32,
   "metadata": {
    "collapsed": false
   },
   "outputs": [
    {
     "name": "stdout",
     "output_type": "stream",
     "text": [
      "Reading ../resources/example.gctx [978x1476]\n",
      "Done [0.79 s].\n",
      "\n",
      "ds = \n",
      "\n",
      "        mat: [978x1476 double]\n",
      "        rid: {978x1 cell}\n",
      "        rhd: {11x1 cell}\n",
      "      rdesc: {978x11 cell}\n",
      "        cid: {1476x1 cell}\n",
      "        chd: {35x1 cell}\n",
      "      cdesc: {1476x35 cell}\n",
      "      rdict: [11x1 containers.Map]\n",
      "      cdict: [35x1 containers.Map]\n",
      "        src: '../resources/example.gctx'\n",
      "    version: 'GCTX1.0'\n",
      "     h5path: '/0/DATA/0/matrix'\n",
      "     h5name: 'unnamed'\n"
     ]
    }
   ],
   "source": [
    "ds = parse_gctx(gctx_file_location)"
   ]
  },
  {
   "cell_type": "markdown",
   "metadata": {},
   "source": [
    "We call `ds` a gct object, but it's represented as a struct cell array. Note that `parse_gctx` can be used to import both gct and gctx files."
   ]
  },
  {
   "cell_type": "markdown",
   "metadata": {},
   "source": [
    "** Say you only want to read in the metadata from a big gctx file without touching the data.**"
   ]
  },
  {
   "cell_type": "code",
   "execution_count": 33,
   "metadata": {
    "collapsed": false
   },
   "outputs": [
    {
     "name": "stdout",
     "output_type": "stream",
     "text": [
      "Reading ../resources/example.gctx Done [0.75 s].\n",
      "\n",
      "ds_with_only_meta = \n",
      "\n",
      "        mat: []\n",
      "        rid: {978x1 cell}\n",
      "        rhd: {11x1 cell}\n",
      "      rdesc: {978x11 cell}\n",
      "        cid: {1476x1 cell}\n",
      "        chd: {35x1 cell}\n",
      "      cdesc: {1476x35 cell}\n",
      "      rdict: [11x1 containers.Map]\n",
      "      cdict: [35x1 containers.Map]\n",
      "        src: '../resources/example.gctx'\n",
      "    version: 'GCTX1.0'\n",
      "     h5path: '/0/DATA/0/matrix'\n"
     ]
    }
   ],
   "source": [
    " ds_with_only_meta = parse_gctx(gctx_file_location, 'annot_only', true)"
   ]
  },
  {
   "cell_type": "markdown",
   "metadata": {},
   "source": [
    "Note that `mat` is empty, but the metadata is the same as above."
   ]
  },
  {
   "cell_type": "markdown",
   "metadata": {},
   "source": [
    "** You can also read in only a certain subset of rids and/or cids.**\n",
    "\n",
    "Practically speaking, this is more useful for gctx files than gct files, since (as a text file) you'll need to read in the entire gct file anyway. **You'll need to have a list of desired rids and/or cids already (can be obtained from reading only metadata in first, then subsetting).**"
   ]
  },
  {
   "cell_type": "code",
   "execution_count": 34,
   "metadata": {
    "collapsed": false
   },
   "outputs": [
    {
     "name": "stdout",
     "output_type": "stream",
     "text": [
      "my_rids = \n",
      "\n",
      "    '217140_s_at'\n",
      "    '209253_at'\n",
      "    '214404_x_at'\n",
      "\n",
      "\n",
      "my_cids = \n",
      "\n",
      "    'LJP005_MCF7_24H_X1_B17:A07'\n"
     ]
    }
   ],
   "source": [
    "% Get rids and cids from gctoo_with_only_meta\n",
    "my_rids = ds_with_only_meta.rid(3:5)\n",
    "my_cids = ds_with_only_meta.cid(5)"
   ]
  },
  {
   "cell_type": "code",
   "execution_count": 35,
   "metadata": {
    "collapsed": false
   },
   "outputs": [
    {
     "name": "stdout",
     "output_type": "stream",
     "text": [
      "Reading ../resources/example.gctx [3x1]\n",
      "Performing 1 hyperslab selections using single mode\n",
      "Done [0.74 s].\n",
      "\n",
      "ds_subset = \n",
      "\n",
      "        mat: [3x1 double]\n",
      "        rid: {3x1 cell}\n",
      "        rhd: {11x1 cell}\n",
      "      rdesc: {3x11 cell}\n",
      "        cid: {'LJP005_MCF7_24H_X1_B17:A07'}\n",
      "        chd: {35x1 cell}\n",
      "      cdesc: {1x35 cell}\n",
      "      rdict: [11x1 containers.Map]\n",
      "      cdict: [35x1 containers.Map]\n",
      "        src: '../resources/example.gctx'\n",
      "    version: 'GCTX1.0'\n",
      "     h5path: '/0/DATA/0/matrix'\n",
      "     h5name: 'unnamed'\n"
     ]
    }
   ],
   "source": [
    "% Use my_rids and my_cids for getting a subset of the gctx\n",
    "ds_subset = parse_gctx(gctx_file_location, 'rid', my_rids, 'cid', my_cids)"
   ]
  },
  {
   "cell_type": "markdown",
   "metadata": {},
   "source": [
    "## Modifying a gct object\n",
    "\n",
    "You can modify the attributes of the gct object. However, beware messing up the integrity of the gct object; for example, changing `rhd` so that it doesn't align with `rdesc` and `rdict`."
   ]
  },
  {
   "cell_type": "code",
   "execution_count": 36,
   "metadata": {
    "collapsed": false
   },
   "outputs": [
    {
     "name": "stdout",
     "output_type": "stream",
     "text": [
      "ds = \n",
      "\n",
      "        mat: [978x1476 double]\n",
      "        rid: {978x1 cell}\n",
      "        rhd: {}\n",
      "      rdesc: {978x11 cell}\n",
      "        cid: {1476x1 cell}\n",
      "        chd: {35x1 cell}\n",
      "      cdesc: {1476x35 cell}\n",
      "      rdict: [11x1 containers.Map]\n",
      "      cdict: [35x1 containers.Map]\n",
      "        src: '../resources/example.gctx'\n",
      "    version: 'GCTX1.0'\n",
      "     h5path: '/0/DATA/0/matrix'\n",
      "     h5name: 'unnamed'\n"
     ]
    }
   ],
   "source": [
    "ds.rhd = {}"
   ]
  },
  {
   "cell_type": "markdown",
   "metadata": {},
   "source": [
    "## Merging gct/x files\n",
    "\n",
    "Say you have 2 gct files that you want to merge together. They have the same row metadata but different columns."
   ]
  },
  {
   "cell_type": "code",
   "execution_count": 37,
   "metadata": {
    "collapsed": false
   },
   "outputs": [
    {
     "name": "stdout",
     "output_type": "stream",
     "text": [
      "Reading ../resources/example.gctx [978x1476]\n",
      "Done [0.72 s].\n",
      "\n",
      "ds1 = \n",
      "\n",
      "        mat: [978x1476 double]\n",
      "        rid: {978x1 cell}\n",
      "        rhd: {11x1 cell}\n",
      "      rdesc: {978x11 cell}\n",
      "        cid: {1476x1 cell}\n",
      "        chd: {35x1 cell}\n",
      "      cdesc: {1476x35 cell}\n",
      "      rdict: [11x1 containers.Map]\n",
      "      cdict: [35x1 containers.Map]\n",
      "        src: '../resources/example.gctx'\n",
      "    version: 'GCTX1.0'\n",
      "     h5path: '/0/DATA/0/matrix'\n",
      "     h5name: 'unnamed'\n",
      "\n",
      "Reading ../resources/example.gct [978x377]\n",
      "class:single\n",
      "read:978/978\n",
      "Done.\n",
      "\n",
      "\n",
      "ds2 = \n",
      "\n",
      "        mat: [978x377 single]\n",
      "        rid: {978x1 cell}\n",
      "        rhd: {11x1 cell}\n",
      "      rdesc: {978x11 cell}\n",
      "      rdict: [11x1 containers.Map]\n",
      "        cid: {377x1 cell}\n",
      "        chd: {35x1 cell}\n",
      "      cdesc: {377x35 cell}\n",
      "      cdict: [35x1 containers.Map]\n",
      "    version: '#1.3'\n",
      "        src: '../resources/example.gct'\n"
     ]
    }
   ],
   "source": [
    "ds1 = parse_gctx(gctx_file_location)\n",
    "ds2 = parse_gctx(gct_file_location)"
   ]
  },
  {
   "cell_type": "code",
   "execution_count": 38,
   "metadata": {
    "collapsed": false
   },
   "outputs": [
    {
     "name": "stdout",
     "output_type": "stream",
     "text": [
      "Appending cols\n",
      "\n",
      "merged = \n",
      "\n",
      "        mat: [978x1853 single]\n",
      "        rid: {978x1 cell}\n",
      "        rhd: {11x1 cell}\n",
      "      rdesc: {978x11 cell}\n",
      "        cid: {1853x1 cell}\n",
      "        chd: {35x1 cell}\n",
      "      cdesc: {1853x35 cell}\n",
      "      rdict: [11x1 containers.Map]\n",
      "      cdict: [35x1 containers.Map]\n",
      "        src: 'unnamed'\n",
      "    version: '#1.3'\n"
     ]
    }
   ],
   "source": [
    "merged = merge_two(ds1, ds2)"
   ]
  },
  {
   "cell_type": "markdown",
   "metadata": {},
   "source": [
    "## Slicing gct/x files\n",
    "\n",
    "Let's say you want to slice a gct/x file to keep only `dp52` probes and only `DMSO` samples."
   ]
  },
  {
   "cell_type": "code",
   "execution_count": 39,
   "metadata": {
    "collapsed": false
   },
   "outputs": [
    {
     "name": "stdout",
     "output_type": "stream",
     "text": [
      "Reading ../resources/example.gctx [978x1476]\n",
      "Done [0.73 s].\n",
      "\n",
      "ds = \n",
      "\n",
      "        mat: [978x1476 double]\n",
      "        rid: {978x1 cell}\n",
      "        rhd: {11x1 cell}\n",
      "      rdesc: {978x11 cell}\n",
      "        cid: {1476x1 cell}\n",
      "        chd: {35x1 cell}\n",
      "      cdesc: {1476x35 cell}\n",
      "      rdict: [11x1 containers.Map]\n",
      "      cdict: [35x1 containers.Map]\n",
      "        src: '../resources/example.gctx'\n",
      "    version: 'GCTX1.0'\n",
      "     h5path: '/0/DATA/0/matrix'\n",
      "     h5name: 'unnamed'\n"
     ]
    }
   ],
   "source": [
    "ds = parse_gctx(gctx_file_location)"
   ]
  },
  {
   "cell_type": "markdown",
   "metadata": {},
   "source": [
    "Get rids corresponding to dp52 probes."
   ]
  },
  {
   "cell_type": "code",
   "execution_count": 40,
   "metadata": {
    "collapsed": false
   },
   "outputs": [
    {
     "name": "stdout",
     "output_type": "stream",
     "text": [
      "ans =\n",
      "\n",
      "   489\n"
     ]
    }
   ],
   "source": [
    "beadset_ids = ds_get_meta(ds, 'row', 'pr_bset_id');\n",
    "dp52_bool_array = strcmp('dp52', beadset_ids);\n",
    "dp52_rids = ds.rid(dp52_bool_array);\n",
    "length(dp52_rids)"
   ]
  },
  {
   "cell_type": "markdown",
   "metadata": {},
   "source": [
    "Get cids corresponding to DMSO samples."
   ]
  },
  {
   "cell_type": "code",
   "execution_count": 41,
   "metadata": {
    "collapsed": false
   },
   "outputs": [
    {
     "name": "stdout",
     "output_type": "stream",
     "text": [
      "ans =\n",
      "\n",
      "   100\n"
     ]
    }
   ],
   "source": [
    "pert_inames = ds_get_meta(ds, 'column', 'pert_iname');\n",
    "dmso_bool_array = strcmp('DMSO', pert_inames);\n",
    "dmso_cids = ds.cid(dmso_bool_array);\n",
    "length(dmso_cids)"
   ]
  },
  {
   "cell_type": "code",
   "execution_count": 42,
   "metadata": {
    "collapsed": false
   },
   "outputs": [
    {
     "name": "stdout",
     "output_type": "stream",
     "text": [
      "sliced = \n",
      "\n",
      "        mat: [489x100 double]\n",
      "        rid: {489x1 cell}\n",
      "        rhd: {11x1 cell}\n",
      "      rdesc: {489x11 cell}\n",
      "        cid: {100x1 cell}\n",
      "        chd: {35x1 cell}\n",
      "      cdesc: {100x35 cell}\n",
      "      rdict: [11x1 containers.Map]\n",
      "      cdict: [35x1 containers.Map]\n",
      "        src: '../resources/example.gctx'\n",
      "    version: 'GCTX1.0'\n",
      "     h5path: '/0/DATA/0/matrix'\n",
      "     h5name: 'unnamed'\n"
     ]
    }
   ],
   "source": [
    "sliced = ds_slice(ds, 'rid', dp52_rids, 'cid', dmso_cids)"
   ]
  },
  {
   "cell_type": "markdown",
   "metadata": {},
   "source": [
    "Confirm that size of sliced is correct: 489 probes x 100 samples."
   ]
  },
  {
   "cell_type": "markdown",
   "metadata": {},
   "source": [
    "## Compute correlations between columns"
   ]
  },
  {
   "cell_type": "code",
   "execution_count": 43,
   "metadata": {
    "collapsed": false
   },
   "outputs": [
    {
     "name": "stdout",
     "output_type": "stream",
     "text": [
      "Reading ../resources/example.gct [978x377]\n",
      "class:single\n",
      "read:978/978\n",
      "Done.\n"
     ]
    }
   ],
   "source": [
    "ds = parse_gctx(gct_file_location);\n",
    "cc = ds_corr(ds);"
   ]
  },
  {
   "cell_type": "code",
   "execution_count": 44,
   "metadata": {
    "collapsed": false
   },
   "outputs": [
    {
     "name": "stdout",
     "output_type": "stream",
     "text": [
      "ans =\n",
      "\n",
      "    1.0000    0.9445    0.9232    0.9317    0.8501\n",
      "    0.9445    1.0000    0.9202    0.9264    0.8463\n",
      "    0.9232    0.9202    1.0000    0.9160    0.8696\n",
      "    0.9317    0.9264    0.9160    1.0000    0.8634\n",
      "    0.8501    0.8463    0.8696    0.8634    1.0000\n"
     ]
    }
   ],
   "source": [
    "% cc is a gct object\n",
    "cc.mat(1:5, 1:5)"
   ]
  },
  {
   "cell_type": "markdown",
   "metadata": {},
   "source": [
    "## Transpose a gct/x"
   ]
  },
  {
   "cell_type": "code",
   "execution_count": 45,
   "metadata": {
    "collapsed": false
   },
   "outputs": [
    {
     "name": "stdout",
     "output_type": "stream",
     "text": [
      "Reading ../resources/example.gct [978x377]\n",
      "class:single\n",
      "read:978/978\n",
      "Done.\n",
      "\n",
      "\n",
      "ds = \n",
      "\n",
      "        mat: [978x377 single]\n",
      "        rid: {978x1 cell}\n",
      "        rhd: {11x1 cell}\n",
      "      rdesc: {978x11 cell}\n",
      "      rdict: [11x1 containers.Map]\n",
      "        cid: {377x1 cell}\n",
      "        chd: {35x1 cell}\n",
      "      cdesc: {377x35 cell}\n",
      "      cdict: [35x1 containers.Map]\n",
      "    version: '#1.3'\n",
      "        src: '../resources/example.gct'\n"
     ]
    }
   ],
   "source": [
    "ds = parse_gctx(gct_file_location)"
   ]
  },
  {
   "cell_type": "code",
   "execution_count": 46,
   "metadata": {
    "collapsed": false
   },
   "outputs": [
    {
     "name": "stdout",
     "output_type": "stream",
     "text": [
      "transposed = \n",
      "\n",
      "        mat: [377x978 single]\n",
      "        rid: {377x1 cell}\n",
      "        rhd: {35x1 cell}\n",
      "      rdesc: {377x35 cell}\n",
      "      rdict: [35x1 containers.Map]\n",
      "        cid: {978x1 cell}\n",
      "        chd: {11x1 cell}\n",
      "      cdesc: {978x11 cell}\n",
      "      cdict: [11x1 containers.Map]\n",
      "    version: '#1.3'\n",
      "        src: '../resources/example.gct'\n"
     ]
    }
   ],
   "source": [
    "transposed = transpose_gct(ds)"
   ]
  },
  {
   "cell_type": "markdown",
   "metadata": {},
   "source": [
    "## Writing gct/x files"
   ]
  },
  {
   "cell_type": "code",
   "execution_count": 47,
   "metadata": {
    "collapsed": false
   },
   "outputs": [
    {
     "name": "stdout",
     "output_type": "stream",
     "text": [
      "Saving file to example_out_n377x978.gct\n",
      "Dimensions of matrix: [978x377]\n",
      "Setting precision to 4\n",
      "Saved.\n",
      "\n",
      "ans =\n",
      "\n",
      "example_out_n377x978.gct\n",
      "\n",
      "Saving HDF5 dataset to: example_out_n377x978.gctx...\n",
      "Disabling compression.\n",
      "Setting chunk size to: 978x268\n",
      "done [0.15s].\n",
      "\n",
      "ans =\n",
      "\n",
      "example_out_n377x978.gctx\n"
     ]
    }
   ],
   "source": [
    "mkgct('example_out.gct', ds)\n",
    "mkgctx('example_out.gctx', ds)"
   ]
  },
  {
   "cell_type": "markdown",
   "metadata": {},
   "source": [
    "Note that the number of rows and columns is automatically appended to the filename. Note also that the **columns** go first; this is so that it is easy to see by glancing at the end of the filename if the file is in landmark space (978 rows)."
   ]
  },
  {
   "cell_type": "code",
   "execution_count": 48,
   "metadata": {
    "collapsed": false
   },
   "outputs": [],
   "source": [
    "% Clean-up\n",
    "delete 'example_out_n377x978.gct'\n",
    "delete 'example_out_n377x978.gctx'"
   ]
  }
 ],
 "metadata": {
  "anaconda-cloud": {},
  "kernelspec": {
   "display_name": "Matlab",
   "language": "matlab",
   "name": "matlab"
  },
  "language_info": {
   "codemirror_mode": "octave",
   "file_extension": ".m",
   "help_links": [
    {
     "text": "MetaKernel Magics",
     "url": "https://github.com/calysto/metakernel/blob/master/metakernel/magics/README.md"
    }
   ],
   "mimetype": "text/x-octave",
   "name": "matlab",
   "version": "0.11.0"
  }
 },
 "nbformat": 4,
 "nbformat_minor": 2
}
